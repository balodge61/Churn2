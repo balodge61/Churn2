{
 "cells": [
  {
   "cell_type": "code",
   "execution_count": 1,
   "metadata": {},
   "outputs": [],
   "source": [
    "import pandas as pd\n",
    "import numpy as np\n",
    "import warnings\n",
    "warnings.filterwarnings(\"ignore\")"
   ]
  },
  {
   "cell_type": "code",
   "execution_count": 2,
   "metadata": {},
   "outputs": [
    {
     "data": {
      "text/plain": [
       "Index(['gender', 'SeniorCitizen', 'Partner', 'Dependents', 'tenure',\n",
       "       'PhoneService', 'MultipleLines', 'InternetService', 'OnlineSecurity',\n",
       "       'OnlineBackup', 'DeviceProtection', 'TechSupport', 'StreamingTV',\n",
       "       'StreamingMovies', 'Contract', 'PaperlessBilling', 'PaymentMethod',\n",
       "       'MonthlyCharges', 'TotalCharges', 'Churn'],\n",
       "      dtype='object')"
      ]
     },
     "execution_count": 2,
     "metadata": {},
     "output_type": "execute_result"
    }
   ],
   "source": [
    "train = pd.read_csv('Train_Churn_binary.csv')\n",
    "test = pd.read_csv('Test_Churn.csv')\n",
    "\n",
    "full_data = pd.concat([train, test])\n",
    "\n",
    "churn = test['Churn']\n",
    "\n",
    "full_data.drop(['Customer Number'], axis=1, inplace=True)\n",
    "\n",
    "full_data.columns"
   ]
  },
  {
   "cell_type": "code",
   "execution_count": 3,
   "metadata": {},
   "outputs": [],
   "source": [
    "#### Early manipulation ####\n",
    "\n",
    "full_data['TotalCharges'] = full_data['TotalCharges'].replace(to_replace = \" \",value = 0)\n",
    "full_data['TotalCharges'] = full_data['TotalCharges'].astype(float)\n",
    "\n",
    "#replace 'No internet service' option to No\n",
    "internet_columns = ['OnlineSecurity','OnlineBackup','DeviceProtection',\n",
    "                   'TechSupport','StreamingTV','StreamingMovies']\n",
    "\n",
    "for i in internet_columns:\n",
    "    full_data[i] = full_data[i].replace({'No internet service':'No'})\n",
    "\n",
    "#full_data.info()\n"
   ]
  },
  {
   "cell_type": "code",
   "execution_count": 4,
   "metadata": {},
   "outputs": [],
   "source": [
    "#### Dummy time ####\n",
    "\n",
    "full_data = pd.get_dummies(data=full_data, columns=['gender', 'Partner', 'Dependents',\n",
    "       'PhoneService', 'MultipleLines', 'InternetService', 'OnlineSecurity',\n",
    "       'OnlineBackup', 'DeviceProtection', 'TechSupport', 'StreamingTV',\n",
    "       'StreamingMovies', 'Contract', 'PaperlessBilling', 'PaymentMethod'],\n",
    "    drop_first=False)\n",
    "\n",
    "#full_data.info()"
   ]
  },
  {
   "cell_type": "code",
   "execution_count": 5,
   "metadata": {},
   "outputs": [
    {
     "data": {
      "text/plain": [
       "Index(['SeniorCitizen', 'tenure', 'MonthlyCharges', 'TotalCharges', 'Churn',\n",
       "       'gender_Female', 'gender_Male', 'Partner_No', 'Partner_Yes',\n",
       "       'Dependents_No', 'Dependents_Yes', 'PhoneService_No',\n",
       "       'PhoneService_Yes', 'MultipleLines_No',\n",
       "       'MultipleLines_No phone service', 'MultipleLines_Yes',\n",
       "       'InternetService_DSL', 'InternetService_Fiber optic',\n",
       "       'InternetService_No', 'OnlineSecurity_No', 'OnlineSecurity_Yes',\n",
       "       'OnlineBackup_No', 'OnlineBackup_Yes', 'DeviceProtection_No',\n",
       "       'DeviceProtection_Yes', 'TechSupport_No', 'TechSupport_Yes',\n",
       "       'StreamingTV_No', 'StreamingTV_Yes', 'StreamingMovies_No',\n",
       "       'StreamingMovies_Yes', 'Contract_Month-to-month', 'Contract_One year',\n",
       "       'Contract_Two year', 'PaperlessBilling_No', 'PaperlessBilling_Yes',\n",
       "       'PaymentMethod_Bank transfer (automatic)',\n",
       "       'PaymentMethod_Credit card (automatic)',\n",
       "       'PaymentMethod_Electronic check', 'PaymentMethod_Mailed check'],\n",
       "      dtype='object')"
      ]
     },
     "execution_count": 5,
     "metadata": {},
     "output_type": "execute_result"
    }
   ],
   "source": [
    "#full_data = full_data.drop(full_data['gender_Male'])\n",
    "\n",
    "final_train = full_data.head(5282)\n",
    "final_test = full_data.tail(1761)\n",
    "\n",
    "final_train.to_csv('final_train.csv')\n",
    "final_test.to_csv('final_test.csv')\n",
    "\n",
    "full_data.columns"
   ]
  },
  {
   "cell_type": "code",
   "execution_count": 6,
   "metadata": {},
   "outputs": [
    {
     "data": {
      "text/plain": [
       "Index(['SeniorCitizen', 'tenure', 'MonthlyCharges', 'TotalCharges',\n",
       "       'gender_Female', 'gender_Male', 'Partner_No', 'Partner_Yes',\n",
       "       'Dependents_No', 'Dependents_Yes', 'PhoneService_No',\n",
       "       'PhoneService_Yes', 'MultipleLines_No',\n",
       "       'MultipleLines_No phone service', 'MultipleLines_Yes',\n",
       "       'InternetService_DSL', 'InternetService_Fiber optic',\n",
       "       'InternetService_No', 'OnlineSecurity_No', 'OnlineSecurity_Yes',\n",
       "       'OnlineBackup_No', 'OnlineBackup_Yes', 'DeviceProtection_No',\n",
       "       'DeviceProtection_Yes', 'TechSupport_No', 'TechSupport_Yes',\n",
       "       'StreamingTV_No', 'StreamingTV_Yes', 'StreamingMovies_No',\n",
       "       'StreamingMovies_Yes', 'Contract_Month-to-month', 'Contract_One year',\n",
       "       'Contract_Two year', 'PaperlessBilling_No', 'PaperlessBilling_Yes',\n",
       "       'PaymentMethod_Bank transfer (automatic)',\n",
       "       'PaymentMethod_Credit card (automatic)',\n",
       "       'PaymentMethod_Electronic check', 'PaymentMethod_Mailed check'],\n",
       "      dtype='object')"
      ]
     },
     "execution_count": 6,
     "metadata": {},
     "output_type": "execute_result"
    }
   ],
   "source": [
    "columns = ['SeniorCitizen', 'tenure', 'MonthlyCharges', 'TotalCharges', 'Churn',\n",
    "       'gender_Female', 'gender_Male', 'Partner_No', 'Partner_Yes',\n",
    "       'Dependents_No', 'Dependents_Yes', 'PhoneService_No',\n",
    "       'PhoneService_Yes', 'MultipleLines_No',\n",
    "       'MultipleLines_No phone service', 'MultipleLines_Yes',\n",
    "       'InternetService_DSL', 'InternetService_Fiber optic',\n",
    "       'InternetService_No', 'OnlineSecurity_No', 'OnlineSecurity_Yes',\n",
    "       'OnlineBackup_No', 'OnlineBackup_Yes', 'DeviceProtection_No',\n",
    "       'DeviceProtection_Yes', 'TechSupport_No', 'TechSupport_Yes',\n",
    "       'StreamingTV_No', 'StreamingTV_Yes', 'StreamingMovies_No',\n",
    "       'StreamingMovies_Yes', 'Contract_Month-to-month', 'Contract_One year',\n",
    "       'Contract_Two year', 'PaperlessBilling_No', 'PaperlessBilling_Yes',\n",
    "       'PaymentMethod_Bank transfer (automatic)',\n",
    "       'PaymentMethod_Credit card (automatic)',\n",
    "       'PaymentMethod_Electronic check', 'PaymentMethod_Mailed check']\n",
    "\n",
    "\n",
    "\n",
    "train_data = final_train[columns]\n",
    "train_data = pd.DataFrame(train_data).drop(columns='Churn')\n",
    "test_data = final_test[columns]\n",
    "test_data = pd.DataFrame(test_data).drop(columns='Churn')\n",
    "\n",
    "target = final_train.Churn\n",
    "\n",
    "train_data.columns"
   ]
  },
  {
   "cell_type": "code",
   "execution_count": 7,
   "metadata": {},
   "outputs": [],
   "source": [
    "#### Preprocess and scale the data ####\n",
    "\n",
    "# dropped accuracy severely\n",
    "\n",
    "from sklearn.preprocessing import scale\n",
    "train_data=scale(train_data)\n",
    "test_data=scale(test_data)\n"
   ]
  },
  {
   "cell_type": "code",
   "execution_count": 8,
   "metadata": {},
   "outputs": [
    {
     "name": "stdout",
     "output_type": "stream",
     "text": [
      "Churn  Churn                                      1.000000\n",
      "       Contract_Month-to-month                    0.406114\n",
      "       tenure                                     0.361497\n",
      "       PaymentMethod_Electronic check             0.306797\n",
      "       Contract_Two year                          0.298762\n",
      "       InternetService_Fiber optic                0.297013\n",
      "       InternetService_No                         0.222458\n",
      "       TotalCharges                               0.212372\n",
      "       PaperlessBilling_No                        0.185480\n",
      "       PaperlessBilling_Yes                       0.185480\n",
      "       Contract_One year                          0.182562\n",
      "       MonthlyCharges                             0.180156\n",
      "       OnlineSecurity_No                          0.178086\n",
      "       OnlineSecurity_Yes                         0.178086\n",
      "       TechSupport_Yes                            0.174806\n",
      "       TechSupport_No                             0.174806\n",
      "       Dependents_Yes                             0.162896\n",
      "       Dependents_No                              0.162896\n",
      "       Partner_Yes                                0.156463\n",
      "       Partner_No                                 0.156463\n",
      "       SeniorCitizen                              0.145914\n",
      "       PaymentMethod_Credit card (automatic)      0.141954\n",
      "       PaymentMethod_Bank transfer (automatic)    0.119980\n",
      "       InternetService_DSL                        0.116836\n",
      "       OnlineBackup_No                            0.093172\n",
      "       OnlineBackup_Yes                           0.093172\n",
      "       PaymentMethod_Mailed check                 0.088143\n",
      "       DeviceProtection_Yes                       0.078493\n",
      "       DeviceProtection_No                        0.078493\n",
      "       StreamingTV_No                             0.060369\n",
      "       StreamingTV_Yes                            0.060369\n",
      "       StreamingMovies_No                         0.050591\n",
      "       StreamingMovies_Yes                        0.050591\n",
      "       MultipleLines_Yes                          0.035247\n",
      "       MultipleLines_No                           0.031616\n",
      "       PhoneService_No                            0.005293\n",
      "       MultipleLines_No phone service             0.005293\n",
      "       PhoneService_Yes                           0.005293\n",
      "       gender_Male                                0.005132\n",
      "       gender_Female                              0.005132\n",
      "dtype: float64\n"
     ]
    }
   ],
   "source": [
    "#### Lets determine correlations so we can drop columns ####\n",
    "\n",
    "corr = full_data.corr()\n",
    "\n",
    "corr_array = pd.DataFrame(corr)\n",
    "corr_unstacked = corr.unstack()\n",
    "corr_list = corr_unstacked.sort_values(kind=\"quicksort\",ascending = False)\n",
    "#print(corr_list)\n",
    "\n",
    "corr_churn = pd.DataFrame(corr['Churn'])\n",
    "corr_churn_unstacked = corr_churn.unstack().abs()\n",
    "corr_churn_list = corr_churn_unstacked.sort_values(kind=\"quicksort\", ascending = False)\n",
    "#corr_churn_list = corr_churn_list.abs()\n",
    "\n",
    "print(corr_churn_list)"
   ]
  },
  {
   "cell_type": "code",
   "execution_count": 9,
   "metadata": {},
   "outputs": [
    {
     "name": "stdout",
     "output_type": "stream",
     "text": [
      "logreg cv scores are:  [0.82230624 0.80718336 0.7826087  0.80151229 0.8030303  0.80492424\n",
      " 0.83522727 0.81818182 0.81783681 0.77988615]\n",
      "avg of the cv scores:  0.8072697182526781\n",
      "Parameters:  [[ 0.08264528 -1.34744578 -0.55631577  0.57060526  0.00268926 -0.00268926\n",
      "   0.01252134 -0.01252134  0.02575327 -0.02575327  0.00663151 -0.00663151\n",
      "  -0.08487242  0.00663151  0.08208619 -0.05610737  0.53544766 -0.5800299\n",
      "   0.08895286 -0.08895286  0.03168608 -0.03168608 -0.00497868  0.00497868\n",
      "   0.07864976 -0.07864976 -0.10092401  0.10092401 -0.08783504  0.08783504\n",
      "   0.25539461 -0.0556423  -0.24333985 -0.07535865  0.07535865 -0.0086371\n",
      "  -0.07461776  0.12639081 -0.06058322]]\n"
     ]
    }
   ],
   "source": [
    "#### Train the log reg model on the TRAIN data ####\n",
    "\n",
    "from sklearn.linear_model import LogisticRegression\n",
    "from sklearn import metrics\n",
    "from sklearn.metrics import accuracy_score\n",
    "from sklearn.model_selection import  cross_val_score,GridSearchCV\n",
    "\n",
    "logreg = LogisticRegression()\n",
    "\n",
    "logreg.fit(train_data, target)\n",
    "pred = logreg.predict_proba(train_data)\n",
    "#accuracy = accuracy_score(target,pred)\n",
    "parameters = logreg.coef_\n",
    "\n",
    "model_score = cross_val_score(logreg, train_data, target, cv=10)\n",
    "print('logreg cv scores are: ',model_score)\n",
    "print('avg of the cv scores: ',model_score.mean())\n",
    "\n",
    "#print('Accuracy: ',accuracy)\n",
    "print('Parameters: ',parameters)\n",
    "\n",
    "\n",
    "\n",
    "prediction = pd.DataFrame(pred)\n",
    "prediction = prediction.drop(columns = 0, axis = 1)\n",
    "prediction.to_csv('pred.csv')"
   ]
  },
  {
   "cell_type": "code",
   "execution_count": 10,
   "metadata": {},
   "outputs": [
    {
     "name": "stdout",
     "output_type": "stream",
     "text": [
      "<bound method DataFrame.info of            0\n",
      "0   0.082645\n",
      "1  -1.347446\n",
      "2  -0.556316\n",
      "3   0.570605\n",
      "4   0.002689\n",
      "5  -0.002689\n",
      "6   0.012521\n",
      "7  -0.012521\n",
      "8   0.025753\n",
      "9  -0.025753\n",
      "10  0.006632\n",
      "11 -0.006632\n",
      "12 -0.084872\n",
      "13  0.006632\n",
      "14  0.082086\n",
      "15 -0.056107\n",
      "16  0.535448\n",
      "17 -0.580030\n",
      "18  0.088953\n",
      "19 -0.088953\n",
      "20  0.031686\n",
      "21 -0.031686\n",
      "22 -0.004979\n",
      "23  0.004979\n",
      "24  0.078650\n",
      "25 -0.078650\n",
      "26 -0.100924\n",
      "27  0.100924\n",
      "28 -0.087835\n",
      "29  0.087835\n",
      "30  0.255395\n",
      "31 -0.055642\n",
      "32 -0.243340\n",
      "33 -0.075359\n",
      "34  0.075359\n",
      "35 -0.008637\n",
      "36 -0.074618\n",
      "37  0.126391\n",
      "38 -0.060583>\n",
      "<bound method DataFrame.info of                                           0\n",
      "0                             SeniorCitizen\n",
      "1                                    tenure\n",
      "2                            MonthlyCharges\n",
      "3                              TotalCharges\n",
      "4                             gender_Female\n",
      "5                               gender_Male\n",
      "6                                Partner_No\n",
      "7                               Partner_Yes\n",
      "8                             Dependents_No\n",
      "9                            Dependents_Yes\n",
      "10                          PhoneService_No\n",
      "11                         PhoneService_Yes\n",
      "12                         MultipleLines_No\n",
      "13           MultipleLines_No phone service\n",
      "14                        MultipleLines_Yes\n",
      "15                      InternetService_DSL\n",
      "16              InternetService_Fiber optic\n",
      "17                       InternetService_No\n",
      "18                        OnlineSecurity_No\n",
      "19                       OnlineSecurity_Yes\n",
      "20                          OnlineBackup_No\n",
      "21                         OnlineBackup_Yes\n",
      "22                      DeviceProtection_No\n",
      "23                     DeviceProtection_Yes\n",
      "24                           TechSupport_No\n",
      "25                          TechSupport_Yes\n",
      "26                           StreamingTV_No\n",
      "27                          StreamingTV_Yes\n",
      "28                       StreamingMovies_No\n",
      "29                      StreamingMovies_Yes\n",
      "30                  Contract_Month-to-month\n",
      "31                        Contract_One year\n",
      "32                        Contract_Two year\n",
      "33                      PaperlessBilling_No\n",
      "34                     PaperlessBilling_Yes\n",
      "35  PaymentMethod_Bank transfer (automatic)\n",
      "36    PaymentMethod_Credit card (automatic)\n",
      "37           PaymentMethod_Electronic check\n",
      "38               PaymentMethod_Mailed check>\n"
     ]
    }
   ],
   "source": [
    "param_df =pd.DataFrame(parameters).transpose()\n",
    "print(param_df.info)\n",
    "param_df.to_csv('param_df.csv')\n",
    "\n",
    "\n",
    "col_df = pd.DataFrame(final_train.columns.drop(['Churn']))\n",
    "col_df.to_csv('train_col.csv')\n",
    "print(col_df.info)\n"
   ]
  },
  {
   "cell_type": "code",
   "execution_count": 11,
   "metadata": {},
   "outputs": [],
   "source": [
    "output = logreg.predict_proba(test_data)\n",
    "\n",
    "output = pd.DataFrame(output, columns = ['drop1','Churn'])\n",
    "cust_col = pd.DataFrame(test['Customer Number'], columns = ['Customer Number'])\n",
    "final_output = pd.merge(cust_col, output, on=cust_col.index)\n",
    "\n",
    "drop_cols = [0,2]\n",
    "final_output.drop(final_output.columns[drop_cols], axis = 1, inplace = True)\n",
    "final_output.to_csv('output.csv', index = False)"
   ]
  }
 ],
 "metadata": {
  "kernelspec": {
   "display_name": "Python 3",
   "language": "python",
   "name": "python3"
  },
  "language_info": {
   "codemirror_mode": {
    "name": "ipython",
    "version": 3
   },
   "file_extension": ".py",
   "mimetype": "text/x-python",
   "name": "python",
   "nbconvert_exporter": "python",
   "pygments_lexer": "ipython3",
   "version": "3.7.1"
  }
 },
 "nbformat": 4,
 "nbformat_minor": 2
}
