{
 "cells": [
  {
   "cell_type": "code",
   "execution_count": 1,
   "metadata": {},
   "outputs": [],
   "source": [
    "import pandas as pd\n",
    "import numpy as np\n",
    "import warnings\n",
    "warnings.filterwarnings(\"ignore\")"
   ]
  },
  {
   "cell_type": "code",
   "execution_count": 2,
   "metadata": {},
   "outputs": [
    {
     "data": {
      "text/plain": [
       "Index(['gender', 'SeniorCitizen', 'Partner', 'Dependents', 'tenure',\n",
       "       'PhoneService', 'MultipleLines', 'InternetService', 'OnlineSecurity',\n",
       "       'OnlineBackup', 'DeviceProtection', 'TechSupport', 'StreamingTV',\n",
       "       'StreamingMovies', 'Contract', 'PaperlessBilling', 'PaymentMethod',\n",
       "       'MonthlyCharges', 'TotalCharges', 'Churn'],\n",
       "      dtype='object')"
      ]
     },
     "execution_count": 2,
     "metadata": {},
     "output_type": "execute_result"
    }
   ],
   "source": [
    "train = pd.read_csv('Train_Churn_binary.csv')\n",
    "test = pd.read_csv('Test_Churn.csv')\n",
    "\n",
    "full_data = pd.concat([train, test])\n",
    "\n",
    "churn = test['Churn']\n",
    "\n",
    "full_data.drop(['Customer Number'], axis=1, inplace=True)\n",
    "\n",
    "full_data.columns"
   ]
  },
  {
   "cell_type": "code",
   "execution_count": 3,
   "metadata": {},
   "outputs": [],
   "source": [
    "#### Early manipulation ####\n",
    "\n",
    "full_data['TotalCharges'] = full_data['TotalCharges'].replace(to_replace = \" \",value = 0)\n",
    "full_data['TotalCharges'] = full_data['TotalCharges'].astype(float)\n",
    "\n",
    "#replace 'No internet service' option to No\n",
    "internet_columns = ['OnlineSecurity','OnlineBackup','DeviceProtection',\n",
    "                   'TechSupport','StreamingTV','StreamingMovies']\n",
    "\n",
    "for i in internet_columns:\n",
    "    full_data[i] = full_data[i].replace({'No internet service':'No'})\n",
    "\n",
    "#full_data.info()\n"
   ]
  },
  {
   "cell_type": "code",
   "execution_count": 4,
   "metadata": {},
   "outputs": [],
   "source": [
    "#### Dummy time ####\n",
    "\n",
    "full_data = pd.get_dummies(data=full_data, columns=['gender', 'Partner', 'Dependents',\n",
    "       'PhoneService', 'MultipleLines', 'InternetService', 'OnlineSecurity',\n",
    "       'OnlineBackup', 'DeviceProtection', 'TechSupport', 'StreamingTV',\n",
    "       'StreamingMovies', 'Contract', 'PaperlessBilling', 'PaymentMethod'],\n",
    "    drop_first=False)\n",
    "\n",
    "#full_data.info()"
   ]
  },
  {
   "cell_type": "code",
   "execution_count": 5,
   "metadata": {},
   "outputs": [
    {
     "data": {
      "text/plain": [
       "Index(['SeniorCitizen', 'tenure', 'MonthlyCharges', 'TotalCharges', 'Churn',\n",
       "       'gender_Female', 'gender_Male', 'Partner_No', 'Partner_Yes',\n",
       "       'Dependents_No', 'Dependents_Yes', 'PhoneService_No',\n",
       "       'PhoneService_Yes', 'MultipleLines_No',\n",
       "       'MultipleLines_No phone service', 'MultipleLines_Yes',\n",
       "       'InternetService_DSL', 'InternetService_Fiber optic',\n",
       "       'InternetService_No', 'OnlineSecurity_No', 'OnlineSecurity_Yes',\n",
       "       'OnlineBackup_No', 'OnlineBackup_Yes', 'DeviceProtection_No',\n",
       "       'DeviceProtection_Yes', 'TechSupport_No', 'TechSupport_Yes',\n",
       "       'StreamingTV_No', 'StreamingTV_Yes', 'StreamingMovies_No',\n",
       "       'StreamingMovies_Yes', 'Contract_Month-to-month', 'Contract_One year',\n",
       "       'Contract_Two year', 'PaperlessBilling_No', 'PaperlessBilling_Yes',\n",
       "       'PaymentMethod_Bank transfer (automatic)',\n",
       "       'PaymentMethod_Credit card (automatic)',\n",
       "       'PaymentMethod_Electronic check', 'PaymentMethod_Mailed check'],\n",
       "      dtype='object')"
      ]
     },
     "execution_count": 5,
     "metadata": {},
     "output_type": "execute_result"
    }
   ],
   "source": [
    "#full_data = full_data.drop(full_data['gender_Male'])\n",
    "\n",
    "final_train = full_data.head(5282)\n",
    "final_test = full_data.tail(1761)\n",
    "\n",
    "final_train.to_csv('final_train.csv')\n",
    "final_test.to_csv('final_test.csv')\n",
    "\n",
    "full_data.columns"
   ]
  },
  {
   "cell_type": "code",
   "execution_count": 7,
   "metadata": {},
   "outputs": [
    {
     "data": {
      "text/plain": [
       "Index(['SeniorCitizen', 'tenure', 'MonthlyCharges', 'TotalCharges',\n",
       "       'gender_Female', 'gender_Male', 'Partner_No', 'Partner_Yes',\n",
       "       'Dependents_No', 'Dependents_Yes', 'PhoneService_No',\n",
       "       'PhoneService_Yes', 'MultipleLines_No',\n",
       "       'MultipleLines_No phone service', 'MultipleLines_Yes',\n",
       "       'InternetService_DSL', 'InternetService_Fiber optic',\n",
       "       'InternetService_No', 'OnlineSecurity_No', 'OnlineSecurity_Yes',\n",
       "       'OnlineBackup_No', 'OnlineBackup_Yes', 'DeviceProtection_No',\n",
       "       'DeviceProtection_Yes', 'TechSupport_No', 'TechSupport_Yes',\n",
       "       'StreamingTV_No', 'StreamingTV_Yes', 'StreamingMovies_No',\n",
       "       'StreamingMovies_Yes', 'Contract_Month-to-month', 'Contract_One year',\n",
       "       'Contract_Two year', 'PaperlessBilling_No', 'PaperlessBilling_Yes',\n",
       "       'PaymentMethod_Bank transfer (automatic)',\n",
       "       'PaymentMethod_Credit card (automatic)',\n",
       "       'PaymentMethod_Electronic check', 'PaymentMethod_Mailed check'],\n",
       "      dtype='object')"
      ]
     },
     "execution_count": 7,
     "metadata": {},
     "output_type": "execute_result"
    }
   ],
   "source": [
    "columns = ['SeniorCitizen', 'tenure', 'MonthlyCharges', 'TotalCharges', 'Churn',\n",
    "       'gender_Female', 'gender_Male', 'Partner_No', 'Partner_Yes',\n",
    "       'Dependents_No', 'Dependents_Yes', 'PhoneService_No',\n",
    "       'PhoneService_Yes', 'MultipleLines_No',\n",
    "       'MultipleLines_No phone service', 'MultipleLines_Yes',\n",
    "       'InternetService_DSL', 'InternetService_Fiber optic',\n",
    "       'InternetService_No', 'OnlineSecurity_No', 'OnlineSecurity_Yes',\n",
    "       'OnlineBackup_No', 'OnlineBackup_Yes', 'DeviceProtection_No',\n",
    "       'DeviceProtection_Yes', 'TechSupport_No', 'TechSupport_Yes',\n",
    "       'StreamingTV_No', 'StreamingTV_Yes', 'StreamingMovies_No',\n",
    "       'StreamingMovies_Yes', 'Contract_Month-to-month', 'Contract_One year',\n",
    "       'Contract_Two year', 'PaperlessBilling_No', 'PaperlessBilling_Yes',\n",
    "       'PaymentMethod_Bank transfer (automatic)',\n",
    "       'PaymentMethod_Credit card (automatic)',\n",
    "       'PaymentMethod_Electronic check', 'PaymentMethod_Mailed check']\n",
    "\n",
    "\n",
    "\n",
    "train_data = final_train[columns]\n",
    "train_data = pd.DataFrame(train_data).drop(columns='Churn')\n",
    "test_data = final_test[columns]\n",
    "test_data = pd.DataFrame(test_data).drop(columns='Churn')\n",
    "\n",
    "target = final_train.Churn\n",
    "\n",
    "train_data.columns"
   ]
  },
  {
   "cell_type": "code",
   "execution_count": 8,
   "metadata": {},
   "outputs": [
    {
     "name": "stdout",
     "output_type": "stream",
     "text": [
      "logreg cv scores are:  [0.8241966  0.80340265 0.7826087  0.79773157 0.8030303  0.80871212\n",
      " 0.83333333 0.81060606 0.81783681 0.77988615]\n",
      "avg of the cv scores:  0.8061344286840237\n",
      "Prediction shape:  (5282, 2)\n",
      "Parameters:  [[ 2.28547819e-01 -5.69874448e-02  1.33045840e-02  2.74526860e-04\n",
      "  -1.06578462e-01 -1.17516323e-01 -8.27363644e-02 -1.41358420e-01\n",
      "  -5.81086915e-02 -1.65986093e-01  1.32696402e-01 -3.56791186e-01\n",
      "  -2.65925961e-01  1.32696402e-01 -9.08652254e-02 -4.55162475e-02\n",
      "   3.58147252e-01 -5.36725789e-01  1.68738077e-01 -3.92832861e-01\n",
      "   3.47888274e-02 -2.58883612e-01 -3.54316437e-02 -1.88663141e-01\n",
      "   1.44283098e-01 -3.68377882e-01 -1.55972471e-01 -6.81223132e-02\n",
      "  -1.28928620e-01 -9.51661650e-02  4.76785925e-01 -1.81737564e-01\n",
      "  -5.19143146e-01 -2.77277871e-01  5.31830862e-02 -5.14906562e-02\n",
      "  -2.13804092e-01  2.21060276e-01 -1.79860312e-01]]\n"
     ]
    }
   ],
   "source": [
    "#### Train the log reg model on the TRAIN data ####\n",
    "\n",
    "from sklearn.linear_model import LogisticRegression\n",
    "from sklearn import metrics\n",
    "from sklearn.metrics import accuracy_score\n",
    "from sklearn.model_selection import  cross_val_score,GridSearchCV\n",
    "\n",
    "logreg = LogisticRegression()\n",
    "\n",
    "logreg.fit(train_data, target)\n",
    "pred = logreg.predict_proba(train_data)\n",
    "#accuracy = accuracy_score(target,pred)\n",
    "parameters = logreg.coef_\n",
    "\n",
    "model_score = cross_val_score(logreg, train_data, target, cv=10)\n",
    "print('logreg cv scores are: ',model_score)\n",
    "print('avg of the cv scores: ',model_score.mean())\n",
    "\n",
    "print('Prediction shape: ',pred.shape)\n",
    "#print('Accuracy: ',accuracy)\n",
    "print('Parameters: ',parameters)\n",
    "\n",
    "\n",
    "\n",
    "prediction = pd.DataFrame(pred)\n",
    "prediction = prediction.drop(columns = 0, axis = 1)\n",
    "prediction.to_csv('pred.csv')"
   ]
  },
  {
   "cell_type": "code",
   "execution_count": 9,
   "metadata": {},
   "outputs": [],
   "source": [
    "output = logreg.predict_proba(test_data)\n",
    "\n",
    "output = pd.DataFrame(output, columns = ['drop1','Churn'])\n",
    "cust_col = pd.DataFrame(test['Customer Number'], columns = ['Customer Number'])\n",
    "final_output = pd.merge(cust_col, output, on=cust_col.index)\n",
    "\n",
    "drop_cols = [0,2]\n",
    "final_output.drop(final_output.columns[drop_cols], axis = 1, inplace = True)\n",
    "final_output.to_csv('output.csv', index = False)"
   ]
  }
 ],
 "metadata": {
  "kernelspec": {
   "display_name": "Python 3",
   "language": "python",
   "name": "python3"
  },
  "language_info": {
   "codemirror_mode": {
    "name": "ipython",
    "version": 3
   },
   "file_extension": ".py",
   "mimetype": "text/x-python",
   "name": "python",
   "nbconvert_exporter": "python",
   "pygments_lexer": "ipython3",
   "version": "3.7.1"
  }
 },
 "nbformat": 4,
 "nbformat_minor": 2
}
